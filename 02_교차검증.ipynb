{
 "cells": [
  {
   "cell_type": "code",
   "execution_count": 123,
   "metadata": {},
   "outputs": [],
   "source": [
    "import numpy as np\n",
    "import pandas as pd\n",
    "import matplotlib.pyplot as plt\n",
    "import seaborn as sns\n",
    "%matplotlib inline\n",
    "\n",
    "from sklearn.preprocessing import LabelEncoder, StandardScaler\n",
    "from sklearn.model_selection import train_test_split, KFold, GridSearchCV\n",
    "from sklearn.tree import DecisionTreeClassifier\n",
    "from sklearn.ensemble import RandomForestClassifier\n",
    "from sklearn.linear_model import LogisticRegression\n",
    "from sklearn.metrics import accuracy_score"
   ]
  },
  {
   "cell_type": "markdown",
   "metadata": {},
   "source": [
    "# 데이터 로드"
   ]
  },
  {
   "cell_type": "code",
   "execution_count": 104,
   "metadata": {},
   "outputs": [
    {
     "data": {
      "text/html": [
       "<div>\n",
       "<style scoped>\n",
       "    .dataframe tbody tr th:only-of-type {\n",
       "        vertical-align: middle;\n",
       "    }\n",
       "\n",
       "    .dataframe tbody tr th {\n",
       "        vertical-align: top;\n",
       "    }\n",
       "\n",
       "    .dataframe thead th {\n",
       "        text-align: right;\n",
       "    }\n",
       "</style>\n",
       "<table border=\"1\" class=\"dataframe\">\n",
       "  <thead>\n",
       "    <tr style=\"text-align: right;\">\n",
       "      <th></th>\n",
       "      <th>PassengerId</th>\n",
       "      <th>Survived</th>\n",
       "      <th>Pclass</th>\n",
       "      <th>Name</th>\n",
       "      <th>Sex</th>\n",
       "      <th>Age</th>\n",
       "      <th>SibSp</th>\n",
       "      <th>Parch</th>\n",
       "      <th>Ticket</th>\n",
       "      <th>Fare</th>\n",
       "      <th>Cabin</th>\n",
       "      <th>Embarked</th>\n",
       "    </tr>\n",
       "  </thead>\n",
       "  <tbody>\n",
       "    <tr>\n",
       "      <th>0</th>\n",
       "      <td>1</td>\n",
       "      <td>0</td>\n",
       "      <td>3</td>\n",
       "      <td>Braund, Mr. Owen Harris</td>\n",
       "      <td>male</td>\n",
       "      <td>22.0</td>\n",
       "      <td>1</td>\n",
       "      <td>0</td>\n",
       "      <td>A/5 21171</td>\n",
       "      <td>7.2500</td>\n",
       "      <td>NaN</td>\n",
       "      <td>S</td>\n",
       "    </tr>\n",
       "    <tr>\n",
       "      <th>1</th>\n",
       "      <td>2</td>\n",
       "      <td>1</td>\n",
       "      <td>1</td>\n",
       "      <td>Cumings, Mrs. John Bradley (Florence Briggs Th...</td>\n",
       "      <td>female</td>\n",
       "      <td>38.0</td>\n",
       "      <td>1</td>\n",
       "      <td>0</td>\n",
       "      <td>PC 17599</td>\n",
       "      <td>71.2833</td>\n",
       "      <td>C85</td>\n",
       "      <td>C</td>\n",
       "    </tr>\n",
       "    <tr>\n",
       "      <th>2</th>\n",
       "      <td>3</td>\n",
       "      <td>1</td>\n",
       "      <td>3</td>\n",
       "      <td>Heikkinen, Miss. Laina</td>\n",
       "      <td>female</td>\n",
       "      <td>26.0</td>\n",
       "      <td>0</td>\n",
       "      <td>0</td>\n",
       "      <td>STON/O2. 3101282</td>\n",
       "      <td>7.9250</td>\n",
       "      <td>NaN</td>\n",
       "      <td>S</td>\n",
       "    </tr>\n",
       "    <tr>\n",
       "      <th>3</th>\n",
       "      <td>4</td>\n",
       "      <td>1</td>\n",
       "      <td>1</td>\n",
       "      <td>Futrelle, Mrs. Jacques Heath (Lily May Peel)</td>\n",
       "      <td>female</td>\n",
       "      <td>35.0</td>\n",
       "      <td>1</td>\n",
       "      <td>0</td>\n",
       "      <td>113803</td>\n",
       "      <td>53.1000</td>\n",
       "      <td>C123</td>\n",
       "      <td>S</td>\n",
       "    </tr>\n",
       "    <tr>\n",
       "      <th>4</th>\n",
       "      <td>5</td>\n",
       "      <td>0</td>\n",
       "      <td>3</td>\n",
       "      <td>Allen, Mr. William Henry</td>\n",
       "      <td>male</td>\n",
       "      <td>35.0</td>\n",
       "      <td>0</td>\n",
       "      <td>0</td>\n",
       "      <td>373450</td>\n",
       "      <td>8.0500</td>\n",
       "      <td>NaN</td>\n",
       "      <td>S</td>\n",
       "    </tr>\n",
       "  </tbody>\n",
       "</table>\n",
       "</div>"
      ],
      "text/plain": [
       "   PassengerId  Survived  Pclass  \\\n",
       "0            1         0       3   \n",
       "1            2         1       1   \n",
       "2            3         1       3   \n",
       "3            4         1       1   \n",
       "4            5         0       3   \n",
       "\n",
       "                                                Name     Sex   Age  SibSp  \\\n",
       "0                            Braund, Mr. Owen Harris    male  22.0      1   \n",
       "1  Cumings, Mrs. John Bradley (Florence Briggs Th...  female  38.0      1   \n",
       "2                             Heikkinen, Miss. Laina  female  26.0      0   \n",
       "3       Futrelle, Mrs. Jacques Heath (Lily May Peel)  female  35.0      1   \n",
       "4                           Allen, Mr. William Henry    male  35.0      0   \n",
       "\n",
       "   Parch            Ticket     Fare Cabin Embarked  \n",
       "0      0         A/5 21171   7.2500   NaN        S  \n",
       "1      0          PC 17599  71.2833   C85        C  \n",
       "2      0  STON/O2. 3101282   7.9250   NaN        S  \n",
       "3      0            113803  53.1000  C123        S  \n",
       "4      0            373450   8.0500   NaN        S  "
      ]
     },
     "execution_count": 104,
     "metadata": {},
     "output_type": "execute_result"
    }
   ],
   "source": [
    "titanic_df = pd.read_csv('titanic_train.csv')\n",
    "titanic_df.head()"
   ]
  },
  {
   "cell_type": "code",
   "execution_count": 105,
   "metadata": {},
   "outputs": [
    {
     "name": "stdout",
     "output_type": "stream",
     "text": [
      "<class 'pandas.core.frame.DataFrame'>\n",
      "RangeIndex: 891 entries, 0 to 890\n",
      "Data columns (total 12 columns):\n",
      " #   Column       Non-Null Count  Dtype  \n",
      "---  ------       --------------  -----  \n",
      " 0   PassengerId  891 non-null    int64  \n",
      " 1   Survived     891 non-null    int64  \n",
      " 2   Pclass       891 non-null    int64  \n",
      " 3   Name         891 non-null    object \n",
      " 4   Sex          891 non-null    object \n",
      " 5   Age          714 non-null    float64\n",
      " 6   SibSp        891 non-null    int64  \n",
      " 7   Parch        891 non-null    int64  \n",
      " 8   Ticket       891 non-null    object \n",
      " 9   Fare         891 non-null    float64\n",
      " 10  Cabin        204 non-null    object \n",
      " 11  Embarked     889 non-null    object \n",
      "dtypes: float64(2), int64(5), object(5)\n",
      "memory usage: 83.7+ KB\n"
     ]
    }
   ],
   "source": [
    "titanic_df.info()"
   ]
  },
  {
   "cell_type": "markdown",
   "metadata": {},
   "source": [
    "# 데이터 전처리"
   ]
  },
  {
   "cell_type": "markdown",
   "metadata": {},
   "source": [
    "## 결측치 처리\n",
    "- Age\n",
    "- Cabin\n",
    "- Embarked"
   ]
  },
  {
   "cell_type": "code",
   "execution_count": 106,
   "metadata": {},
   "outputs": [
    {
     "name": "stdout",
     "output_type": "stream",
     "text": [
      "데이터 세트 Null 값 개수 PassengerId    0\n",
      "Survived       0\n",
      "Pclass         0\n",
      "Name           0\n",
      "Sex            0\n",
      "Age            0\n",
      "SibSp          0\n",
      "Parch          0\n",
      "Ticket         0\n",
      "Fare           0\n",
      "Cabin          0\n",
      "Embarked       0\n",
      "dtype: int64\n"
     ]
    },
    {
     "name": "stderr",
     "output_type": "stream",
     "text": [
      "C:\\Users\\selina\\AppData\\Local\\Temp\\ipykernel_14328\\4135388173.py:1: FutureWarning: A value is trying to be set on a copy of a DataFrame or Series through chained assignment using an inplace method.\n",
      "The behavior will change in pandas 3.0. This inplace method will never work because the intermediate object on which we are setting values always behaves as a copy.\n",
      "\n",
      "For example, when doing 'df[col].method(value, inplace=True)', try using 'df.method({col: value}, inplace=True)' or df[col] = df[col].method(value) instead, to perform the operation inplace on the original object.\n",
      "\n",
      "\n",
      "  titanic_df['Age'].fillna(titanic_df['Age'].mean(), inplace=True)\n",
      "C:\\Users\\selina\\AppData\\Local\\Temp\\ipykernel_14328\\4135388173.py:2: FutureWarning: A value is trying to be set on a copy of a DataFrame or Series through chained assignment using an inplace method.\n",
      "The behavior will change in pandas 3.0. This inplace method will never work because the intermediate object on which we are setting values always behaves as a copy.\n",
      "\n",
      "For example, when doing 'df[col].method(value, inplace=True)', try using 'df.method({col: value}, inplace=True)' or df[col] = df[col].method(value) instead, to perform the operation inplace on the original object.\n",
      "\n",
      "\n",
      "  titanic_df['Cabin'].fillna('N', inplace=True)\n",
      "C:\\Users\\selina\\AppData\\Local\\Temp\\ipykernel_14328\\4135388173.py:3: FutureWarning: A value is trying to be set on a copy of a DataFrame or Series through chained assignment using an inplace method.\n",
      "The behavior will change in pandas 3.0. This inplace method will never work because the intermediate object on which we are setting values always behaves as a copy.\n",
      "\n",
      "For example, when doing 'df[col].method(value, inplace=True)', try using 'df.method({col: value}, inplace=True)' or df[col] = df[col].method(value) instead, to perform the operation inplace on the original object.\n",
      "\n",
      "\n",
      "  titanic_df['Embarked'].fillna('N', inplace=True)\n"
     ]
    }
   ],
   "source": [
    "titanic_df['Age'].fillna(titanic_df['Age'].mean(), inplace=True)\n",
    "titanic_df['Cabin'].fillna('N', inplace=True)\n",
    "titanic_df['Embarked'].fillna('N', inplace=True)\n",
    "print('데이터 세트 Null 값 개수', titanic_df.isnull().sum())"
   ]
  },
  {
   "cell_type": "markdown",
   "metadata": {},
   "source": [
    "## drop\n",
    "- PassengerId\n",
    "- Name\n",
    "- Ticket"
   ]
  },
  {
   "cell_type": "code",
   "execution_count": 107,
   "metadata": {},
   "outputs": [
    {
     "data": {
      "text/html": [
       "<div>\n",
       "<style scoped>\n",
       "    .dataframe tbody tr th:only-of-type {\n",
       "        vertical-align: middle;\n",
       "    }\n",
       "\n",
       "    .dataframe tbody tr th {\n",
       "        vertical-align: top;\n",
       "    }\n",
       "\n",
       "    .dataframe thead th {\n",
       "        text-align: right;\n",
       "    }\n",
       "</style>\n",
       "<table border=\"1\" class=\"dataframe\">\n",
       "  <thead>\n",
       "    <tr style=\"text-align: right;\">\n",
       "      <th></th>\n",
       "      <th>Survived</th>\n",
       "      <th>Pclass</th>\n",
       "      <th>Sex</th>\n",
       "      <th>Age</th>\n",
       "      <th>SibSp</th>\n",
       "      <th>Parch</th>\n",
       "      <th>Fare</th>\n",
       "      <th>Cabin</th>\n",
       "      <th>Embarked</th>\n",
       "    </tr>\n",
       "  </thead>\n",
       "  <tbody>\n",
       "    <tr>\n",
       "      <th>0</th>\n",
       "      <td>0</td>\n",
       "      <td>3</td>\n",
       "      <td>male</td>\n",
       "      <td>22.0</td>\n",
       "      <td>1</td>\n",
       "      <td>0</td>\n",
       "      <td>7.2500</td>\n",
       "      <td>N</td>\n",
       "      <td>S</td>\n",
       "    </tr>\n",
       "    <tr>\n",
       "      <th>1</th>\n",
       "      <td>1</td>\n",
       "      <td>1</td>\n",
       "      <td>female</td>\n",
       "      <td>38.0</td>\n",
       "      <td>1</td>\n",
       "      <td>0</td>\n",
       "      <td>71.2833</td>\n",
       "      <td>C85</td>\n",
       "      <td>C</td>\n",
       "    </tr>\n",
       "    <tr>\n",
       "      <th>2</th>\n",
       "      <td>1</td>\n",
       "      <td>3</td>\n",
       "      <td>female</td>\n",
       "      <td>26.0</td>\n",
       "      <td>0</td>\n",
       "      <td>0</td>\n",
       "      <td>7.9250</td>\n",
       "      <td>N</td>\n",
       "      <td>S</td>\n",
       "    </tr>\n",
       "    <tr>\n",
       "      <th>3</th>\n",
       "      <td>1</td>\n",
       "      <td>1</td>\n",
       "      <td>female</td>\n",
       "      <td>35.0</td>\n",
       "      <td>1</td>\n",
       "      <td>0</td>\n",
       "      <td>53.1000</td>\n",
       "      <td>C123</td>\n",
       "      <td>S</td>\n",
       "    </tr>\n",
       "    <tr>\n",
       "      <th>4</th>\n",
       "      <td>0</td>\n",
       "      <td>3</td>\n",
       "      <td>male</td>\n",
       "      <td>35.0</td>\n",
       "      <td>0</td>\n",
       "      <td>0</td>\n",
       "      <td>8.0500</td>\n",
       "      <td>N</td>\n",
       "      <td>S</td>\n",
       "    </tr>\n",
       "  </tbody>\n",
       "</table>\n",
       "</div>"
      ],
      "text/plain": [
       "   Survived  Pclass     Sex   Age  SibSp  Parch     Fare Cabin Embarked\n",
       "0         0       3    male  22.0      1      0   7.2500     N        S\n",
       "1         1       1  female  38.0      1      0  71.2833   C85        C\n",
       "2         1       3  female  26.0      0      0   7.9250     N        S\n",
       "3         1       1  female  35.0      1      0  53.1000  C123        S\n",
       "4         0       3    male  35.0      0      0   8.0500     N        S"
      ]
     },
     "execution_count": 107,
     "metadata": {},
     "output_type": "execute_result"
    }
   ],
   "source": [
    "titanic_df = titanic_df.drop(['PassengerId','Name','Ticket'], axis=1)\n",
    "titanic_df.head()"
   ]
  },
  {
   "cell_type": "markdown",
   "metadata": {},
   "source": [
    "## label encoding\n",
    "Sex, Cabin, Embarked"
   ]
  },
  {
   "cell_type": "code",
   "execution_count": 108,
   "metadata": {},
   "outputs": [
    {
     "data": {
      "text/html": [
       "<div>\n",
       "<style scoped>\n",
       "    .dataframe tbody tr th:only-of-type {\n",
       "        vertical-align: middle;\n",
       "    }\n",
       "\n",
       "    .dataframe tbody tr th {\n",
       "        vertical-align: top;\n",
       "    }\n",
       "\n",
       "    .dataframe thead th {\n",
       "        text-align: right;\n",
       "    }\n",
       "</style>\n",
       "<table border=\"1\" class=\"dataframe\">\n",
       "  <thead>\n",
       "    <tr style=\"text-align: right;\">\n",
       "      <th></th>\n",
       "      <th>Survived</th>\n",
       "      <th>Pclass</th>\n",
       "      <th>Sex</th>\n",
       "      <th>Age</th>\n",
       "      <th>SibSp</th>\n",
       "      <th>Parch</th>\n",
       "      <th>Fare</th>\n",
       "      <th>Cabin</th>\n",
       "      <th>Embarked</th>\n",
       "    </tr>\n",
       "  </thead>\n",
       "  <tbody>\n",
       "    <tr>\n",
       "      <th>0</th>\n",
       "      <td>0</td>\n",
       "      <td>3</td>\n",
       "      <td>male</td>\n",
       "      <td>22.0</td>\n",
       "      <td>1</td>\n",
       "      <td>0</td>\n",
       "      <td>7.2500</td>\n",
       "      <td>N</td>\n",
       "      <td>S</td>\n",
       "    </tr>\n",
       "    <tr>\n",
       "      <th>1</th>\n",
       "      <td>1</td>\n",
       "      <td>1</td>\n",
       "      <td>female</td>\n",
       "      <td>38.0</td>\n",
       "      <td>1</td>\n",
       "      <td>0</td>\n",
       "      <td>71.2833</td>\n",
       "      <td>C</td>\n",
       "      <td>C</td>\n",
       "    </tr>\n",
       "    <tr>\n",
       "      <th>2</th>\n",
       "      <td>1</td>\n",
       "      <td>3</td>\n",
       "      <td>female</td>\n",
       "      <td>26.0</td>\n",
       "      <td>0</td>\n",
       "      <td>0</td>\n",
       "      <td>7.9250</td>\n",
       "      <td>N</td>\n",
       "      <td>S</td>\n",
       "    </tr>\n",
       "  </tbody>\n",
       "</table>\n",
       "</div>"
      ],
      "text/plain": [
       "   Survived  Pclass     Sex   Age  SibSp  Parch     Fare Cabin Embarked\n",
       "0         0       3    male  22.0      1      0   7.2500     N        S\n",
       "1         1       1  female  38.0      1      0  71.2833     C        C\n",
       "2         1       3  female  26.0      0      0   7.9250     N        S"
      ]
     },
     "execution_count": 108,
     "metadata": {},
     "output_type": "execute_result"
    }
   ],
   "source": [
    "# Cabin - 앞에 한글자만 가져오기기\n",
    "titanic_df['Cabin'] = titanic_df['Cabin'].str[:1]\n",
    "titanic_df.head(3)"
   ]
  },
  {
   "cell_type": "code",
   "execution_count": 109,
   "metadata": {},
   "outputs": [
    {
     "data": {
      "text/html": [
       "<div>\n",
       "<style scoped>\n",
       "    .dataframe tbody tr th:only-of-type {\n",
       "        vertical-align: middle;\n",
       "    }\n",
       "\n",
       "    .dataframe tbody tr th {\n",
       "        vertical-align: top;\n",
       "    }\n",
       "\n",
       "    .dataframe thead th {\n",
       "        text-align: right;\n",
       "    }\n",
       "</style>\n",
       "<table border=\"1\" class=\"dataframe\">\n",
       "  <thead>\n",
       "    <tr style=\"text-align: right;\">\n",
       "      <th></th>\n",
       "      <th>Survived</th>\n",
       "      <th>Pclass</th>\n",
       "      <th>Sex</th>\n",
       "      <th>Age</th>\n",
       "      <th>SibSp</th>\n",
       "      <th>Parch</th>\n",
       "      <th>Fare</th>\n",
       "      <th>Cabin</th>\n",
       "      <th>Embarked</th>\n",
       "    </tr>\n",
       "  </thead>\n",
       "  <tbody>\n",
       "    <tr>\n",
       "      <th>0</th>\n",
       "      <td>0</td>\n",
       "      <td>3</td>\n",
       "      <td>1</td>\n",
       "      <td>22.0</td>\n",
       "      <td>1</td>\n",
       "      <td>0</td>\n",
       "      <td>7.2500</td>\n",
       "      <td>7</td>\n",
       "      <td>3</td>\n",
       "    </tr>\n",
       "    <tr>\n",
       "      <th>1</th>\n",
       "      <td>1</td>\n",
       "      <td>1</td>\n",
       "      <td>0</td>\n",
       "      <td>38.0</td>\n",
       "      <td>1</td>\n",
       "      <td>0</td>\n",
       "      <td>71.2833</td>\n",
       "      <td>2</td>\n",
       "      <td>0</td>\n",
       "    </tr>\n",
       "    <tr>\n",
       "      <th>2</th>\n",
       "      <td>1</td>\n",
       "      <td>3</td>\n",
       "      <td>0</td>\n",
       "      <td>26.0</td>\n",
       "      <td>0</td>\n",
       "      <td>0</td>\n",
       "      <td>7.9250</td>\n",
       "      <td>7</td>\n",
       "      <td>3</td>\n",
       "    </tr>\n",
       "    <tr>\n",
       "      <th>3</th>\n",
       "      <td>1</td>\n",
       "      <td>1</td>\n",
       "      <td>0</td>\n",
       "      <td>35.0</td>\n",
       "      <td>1</td>\n",
       "      <td>0</td>\n",
       "      <td>53.1000</td>\n",
       "      <td>2</td>\n",
       "      <td>3</td>\n",
       "    </tr>\n",
       "    <tr>\n",
       "      <th>4</th>\n",
       "      <td>0</td>\n",
       "      <td>3</td>\n",
       "      <td>1</td>\n",
       "      <td>35.0</td>\n",
       "      <td>0</td>\n",
       "      <td>0</td>\n",
       "      <td>8.0500</td>\n",
       "      <td>7</td>\n",
       "      <td>3</td>\n",
       "    </tr>\n",
       "  </tbody>\n",
       "</table>\n",
       "</div>"
      ],
      "text/plain": [
       "   Survived  Pclass  Sex   Age  SibSp  Parch     Fare  Cabin  Embarked\n",
       "0         0       3    1  22.0      1      0   7.2500      7         3\n",
       "1         1       1    0  38.0      1      0  71.2833      2         0\n",
       "2         1       3    0  26.0      0      0   7.9250      7         3\n",
       "3         1       1    0  35.0      1      0  53.1000      2         3\n",
       "4         0       3    1  35.0      0      0   8.0500      7         3"
      ]
     },
     "execution_count": 109,
     "metadata": {},
     "output_type": "execute_result"
    }
   ],
   "source": [
    "col_names = ['Sex','Cabin','Embarked']\n",
    "for col in col_names:\n",
    "    le = LabelEncoder()\n",
    "    le.fit(titanic_df[col])\n",
    "    titanic_df[col] = le.transform(titanic_df[col])\n",
    "titanic_df.head()"
   ]
  },
  {
   "cell_type": "markdown",
   "metadata": {},
   "source": [
    "## Age, Fare - 수치형\n",
    "1. 그대로 \n",
    "2. 스케일링\n",
    "3. 비닝"
   ]
  },
  {
   "cell_type": "code",
   "execution_count": 110,
   "metadata": {},
   "outputs": [],
   "source": [
    "X_titanic_df = titanic_df.drop('Survived', axis=1)\n",
    "y_titanic_df = titanic_df['Survived']"
   ]
  },
  {
   "cell_type": "markdown",
   "metadata": {},
   "source": [
    "# 데이터 분할"
   ]
  },
  {
   "cell_type": "code",
   "execution_count": 111,
   "metadata": {},
   "outputs": [],
   "source": [
    "X_train, X_test, y_train, y_test = train_test_split(X_titanic_df, y_titanic_df, test_size=0.2, random_state=11)"
   ]
  },
  {
   "cell_type": "markdown",
   "metadata": {},
   "source": [
    "# 모델 학습"
   ]
  },
  {
   "cell_type": "code",
   "execution_count": 112,
   "metadata": {},
   "outputs": [],
   "source": [
    "dt_clf = DecisionTreeClassifier(random_state=11)\n",
    "rf_clf = RandomForestClassifier(random_state=11)\n",
    "lr_clf = LogisticRegression(solver='liblinear')\n"
   ]
  },
  {
   "cell_type": "code",
   "execution_count": 113,
   "metadata": {},
   "outputs": [
    {
     "name": "stdout",
     "output_type": "stream",
     "text": [
      "Decision Tree 정확도: 0.7877094972067039\n",
      "Random Forest 정확도: 0.8547486033519553\n",
      "Logistic Regression 정확도: 0.8659217877094972\n"
     ]
    }
   ],
   "source": [
    "# 모델 학습\n",
    "dt_clf.fit(X_train, y_train)\n",
    "rf_clf.fit(X_train, y_train)\n",
    "lr_clf.fit(X_train, y_train)\n",
    "\n",
    "# 예측\n",
    "dt_pred = dt_clf.predict(X_test)\n",
    "rf_pred = rf_clf.predict(X_test)\n",
    "lr_pred = lr_clf.predict(X_test)\n",
    "\n",
    "# 정확도\n",
    "print(\"Decision Tree 정확도:\", accuracy_score(y_test, dt_pred))\n",
    "print(\"Random Forest 정확도:\", accuracy_score(y_test, rf_pred))\n",
    "print(\"Logistic Regression 정확도:\", accuracy_score(y_test, lr_pred))"
   ]
  },
  {
   "cell_type": "markdown",
   "metadata": {},
   "source": [
    "## 교차 검증"
   ]
  },
  {
   "cell_type": "code",
   "execution_count": 114,
   "metadata": {},
   "outputs": [],
   "source": [
    "# 위에거랑 비교하기 위해해\n",
    "dt_clf_cv = DecisionTreeClassifier(random_state=11)\n",
    "rf_clf_cv = RandomForestClassifier(random_state=11)\n",
    "lr_clf_cv = LogisticRegression(solver='liblinear')"
   ]
  },
  {
   "cell_type": "code",
   "execution_count": 115,
   "metadata": {},
   "outputs": [
    {
     "name": "stdout",
     "output_type": "stream",
     "text": [
      "KFold 교차 검증 후 DecisionTreeClassifier 정확도: [0.7541899441340782, 0.7808988764044944, 0.7865168539325843, 0.7696629213483146, 0.8202247191011236]\n",
      "평균 정확도: 0.782298662984119\n",
      "********************\n",
      "KFold 교차 검증 후 RandomForestClassifier 정확도: [0.7932960893854749, 0.8089887640449438, 0.8370786516853933, 0.7752808988764045, 0.8595505617977528]\n",
      "평균 정확도: 0.8148389931579938\n",
      "********************\n",
      "KFold 교차 검증 후 LogisticRegression 정확도: [0.7932960893854749, 0.7921348314606742, 0.7752808988764045, 0.7471910112359551, 0.8426966292134831]\n",
      "평균 정확도: 0.7901198920343984\n",
      "********************\n"
     ]
    }
   ],
   "source": [
    "kfold = KFold(n_splits = 5) #Stratified 도 해보기기\n",
    "dt_scores = []\n",
    "rf_scores = []\n",
    "lr_scores = []\n",
    "\n",
    "for train_index, test_index in kfold.split(titanic_df):\n",
    "    X_train, X_test = X_titanic_df.values[train_index], X_titanic_df.values[test_index]\n",
    "    y_train, y_test = y_titanic_df.values[train_index], y_titanic_df.values[test_index]\n",
    "\n",
    "    #DecisionTreeClassifier\n",
    "    dt_clf_cv.fit(X_train, y_train)\n",
    "    dt_pred = dt_clf_cv.predict(X_test)\n",
    "    dt_scores.append(accuracy_score(y_test, dt_pred))\n",
    "\n",
    "    #RandomForestClassifier\n",
    "    rf_clf_cv.fit(X_train, y_train)\n",
    "    rf_pred = rf_clf_cv.predict(X_test)\n",
    "    rf_scores.append(accuracy_score(y_test, rf_pred))\n",
    "\n",
    "    #LogisticRegression\n",
    "    lr_clf_cv.fit(X_train, y_train)\n",
    "    lr_pred = lr_clf_cv.predict(X_test)\n",
    "    lr_scores.append(accuracy_score(y_test, lr_pred))\n",
    "\n",
    "print(\"KFold 교차 검증 후 DecisionTreeClassifier 정확도:\", dt_scores)\n",
    "print(\"평균 정확도:\", np.mean(dt_scores))\n",
    "print(\"*\" * 20)\n",
    "\n",
    "print(\"KFold 교차 검증 후 RandomForestClassifier 정확도:\", rf_scores)\n",
    "print(\"평균 정확도:\", np.mean(rf_scores))\n",
    "print(\"*\" * 20)\n",
    "\n",
    "print(\"KFold 교차 검증 후 LogisticRegression 정확도:\", lr_scores)\n",
    "print(\"평균 정확도:\", np.mean(lr_scores))\n",
    "print(\"*\" * 20)"
   ]
  },
  {
   "cell_type": "code",
   "execution_count": 116,
   "metadata": {},
   "outputs": [
    {
     "name": "stdout",
     "output_type": "stream",
     "text": [
      "KFold 교차 검증 후 DecisionTreeClassifier 정확도: [0.7541899441340782, 0.7808988764044944, 0.7865168539325843, 0.7696629213483146, 0.8202247191011236]\n",
      "평균 정확도: 0.782298662984119\n",
      "********************\n",
      "KFold 교차 검증 후 RandomForestClassifier 정확도: [0.7932960893854749, 0.8089887640449438, 0.8370786516853933, 0.7752808988764045, 0.8595505617977528]\n",
      "평균 정확도: 0.8148389931579938\n",
      "********************\n",
      "KFold 교차 검증 후 LogisticRegression 정확도: [0.7932960893854749, 0.7921348314606742, 0.7752808988764045, 0.7471910112359551, 0.8426966292134831]\n",
      "평균 정확도: 0.7901198920343984\n",
      "********************\n"
     ]
    }
   ],
   "source": [
    "# 함수로 만들기\n",
    "\n",
    "def cross_validate_models(models, X_titanic_df, y_titanic_df):\n",
    "    kfold = KFold(n_splits=5)\n",
    "    results = {model_name: [] for model_name in models}\n",
    "\n",
    "    for train_index, test_index in kfold.split(titanic_df):\n",
    "        X_train, X_test = X_titanic_df.values[train_index], X_titanic_df.values[test_index]\n",
    "        y_train, y_test = y_titanic_df.values[train_index], y_titanic_df.values[test_index]\n",
    "\n",
    "        # 각 모델 학습 및 평가\n",
    "        for model_name, model in models.items():\n",
    "            model.fit(X_train, y_train)\n",
    "            pred = model.predict(X_test)\n",
    "            results[model_name].append(accuracy_score(y_test, pred))\n",
    "\n",
    "    # 출력\n",
    "    for model_name, scores in results.items():\n",
    "        print(f\"KFold 교차 검증 후 {model_name} 정확도: {scores}\")\n",
    "        print(f\"평균 정확도: {np.mean(scores)}\")\n",
    "        print('*'*20)\n",
    "\n",
    "# 사용\n",
    "models = {\n",
    "    \"DecisionTreeClassifier\": DecisionTreeClassifier(random_state=11),\n",
    "    \"RandomForestClassifier\": RandomForestClassifier(random_state=11),\n",
    "    \"LogisticRegression\": LogisticRegression(solver='liblinear')\n",
    "}\n",
    "\n",
    "# titanic_df가 X_titanic_df와 y_titanic_df로 분리된 상태에서\n",
    "results = cross_validate_models(models, X_titanic_df, y_titanic_df)"
   ]
  },
  {
   "cell_type": "markdown",
   "metadata": {},
   "source": [
    "## 파라미터 튜닝 + 교차검증\n",
    "GridSearchCV(dt_clf_gcv, param_grid=p)"
   ]
  },
  {
   "cell_type": "code",
   "execution_count": 117,
   "metadata": {},
   "outputs": [],
   "source": [
    "dt_clf_gcv = DecisionTreeClassifier(random_state=11)\n",
    "rf_clf_gcv = RandomForestClassifier(random_state=11)\n",
    "lr_clf_gcv = LogisticRegression(solver='liblinear')"
   ]
  },
  {
   "cell_type": "code",
   "execution_count": 118,
   "metadata": {},
   "outputs": [
    {
     "name": "stdout",
     "output_type": "stream",
     "text": [
      "DecisionTree 파라미터 튜닝 후 정확도: 0.8426966292134831\n",
      "RandomForest 파라미터 튜닝 후 정확도: 0.848314606741573\n"
     ]
    }
   ],
   "source": [
    "# DecisionTreeClassifier (Logistic은 안됨)\n",
    "parameters = {'max_depth':[1,2,3], 'min_samples_split':[2,3]}\n",
    "grid_dt_clf = GridSearchCV(dt_clf_gcv, param_grid=parameters, scoring='accuracy', cv=5)\n",
    "grid_dt_clf.fit(X_train, y_train)\n",
    "\n",
    "score_df = pd.DataFrame(grid_dt_clf.cv_results_)\n",
    "\n",
    "best_dt_clf = grid_dt_clf.best_estimator_\n",
    "best_dt_pred = best_dt_clf.predict(X_test)\n",
    "print('DecisionTree 파라미터 튜닝 후 정확도:', accuracy_score(y_test, best_dt_pred))\n",
    "\n",
    "#RandomForestClassifier \n",
    "parameters = {'max_depth':[1,2,3], 'min_samples_split':[2,3]}\n",
    "grid_rf_clf = GridSearchCV(rf_clf_gcv, param_grid=parameters, scoring='accuracy', cv=5)\n",
    "grid_rf_clf.fit(X_train, y_train)\n",
    "\n",
    "score_rf = pd.DataFrame(grid_rf_clf.cv_results_)\n",
    "\n",
    "best_rf_clf = grid_rf_clf.best_estimator_\n",
    "best_rf_pred = best_rf_clf.predict(X_test)\n",
    "print('RandomForest 파라미터 튜닝 후 정확도:', accuracy_score(y_test, best_rf_pred))\n",
    "\n"
   ]
  },
  {
   "cell_type": "code",
   "execution_count": 119,
   "metadata": {},
   "outputs": [
    {
     "name": "stdout",
     "output_type": "stream",
     "text": [
      "DecisionTreeClassifier 최적 파라미터: {'max_depth': 3, 'min_samples_split': 2}\n",
      "DecisionTreeClassifier 정확도: 0.8426966292134831\n",
      "RandomForestClassifier 최적 파라미터: {'max_depth': 3, 'min_samples_split': 3}\n",
      "RandomForestClassifier 정확도: 0.848314606741573\n"
     ]
    }
   ],
   "source": [
    "# 파라미터 설정\n",
    "parameters = {'max_depth': [1, 2, 3], 'min_samples_split': [2, 3]}\n",
    "\n",
    "# DecisionTreeClassifier 하이퍼파라미터 튜닝\n",
    "dt_clf = DecisionTreeClassifier(random_state=11)\n",
    "grid_dt_clf = GridSearchCV(dt_clf, param_grid=parameters, scoring='accuracy', cv=5)\n",
    "grid_dt_clf.fit(X_train, y_train)\n",
    "\n",
    "# 결과 저장 및 평가\n",
    "dt_score_df = pd.DataFrame(grid_dt_clf.cv_results_)\n",
    "best_dt_clf = grid_dt_clf.best_estimator_\n",
    "best_dt_pred = best_dt_clf.predict(X_test)\n",
    "dt_accuracy = accuracy_score(y_test, best_dt_pred)\n",
    "\n",
    "print(\"DecisionTreeClassifier 최적 파라미터:\", grid_dt_clf.best_params_)\n",
    "print(\"DecisionTreeClassifier 정확도:\", dt_accuracy)\n",
    "\n",
    "# RandomForestClassifier 하이퍼파라미터 튜닝\n",
    "rf_clf = RandomForestClassifier(random_state=11)\n",
    "grid_rf_clf = GridSearchCV(rf_clf, param_grid=parameters, scoring='accuracy', cv=5)\n",
    "grid_rf_clf.fit(X_train, y_train)\n",
    "\n",
    "# 결과 저장 및 평가\n",
    "rf_score_df = pd.DataFrame(grid_rf_clf.cv_results_)\n",
    "best_rf_clf = grid_rf_clf.best_estimator_\n",
    "best_rf_pred = best_rf_clf.predict(X_test)\n",
    "rf_accuracy = accuracy_score(y_test, best_rf_pred)\n",
    "\n",
    "print(\"RandomForestClassifier 최적 파라미터:\", grid_rf_clf.best_params_)\n",
    "print(\"RandomForestClassifier 정확도:\", rf_accuracy)\n"
   ]
  },
  {
   "cell_type": "markdown",
   "metadata": {},
   "source": [
    "## 스케일링 StandardScaler"
   ]
  },
  {
   "cell_type": "code",
   "execution_count": 120,
   "metadata": {},
   "outputs": [
    {
     "name": "stdout",
     "output_type": "stream",
     "text": [
      "StandardScaler 스케일링 후 DecisionTree 정확도: 0.776536312849162\n",
      "StandardScaler 스케일링 후 RandomForest 정확도: 0.8491620111731844\n",
      "StandardScaler 스케일링 후 LogisticRegression 정확도: 0.8491620111731844\n"
     ]
    }
   ],
   "source": [
    "X_train, X_test, y_train, y_test = train_test_split(X_titanic_df, y_titanic_df, test_size=0.2, random_state=11)\n",
    "\n",
    "# StandardScaler\n",
    "scaler = StandardScaler()\n",
    "scaler.fit(X_train)\n",
    "X_train_scaled = scaler.transform(X_train)\n",
    "X_test_scaled = scaler.transform(X_test)\n",
    "\n",
    "# DecisionTreeClassifier\n",
    "dt_scaled = DecisionTreeClassifier()\n",
    "dt_scaled.fit(X_train_scaled, y_train)\n",
    "dt_pred = dt_scaled.predict(X_test_scaled)\n",
    "print('StandardScaler 스케일링 후 DecisionTree 정확도:', accuracy_score(y_test, dt_pred))\n",
    "\n",
    "# RandomForestClassifier\n",
    "rf_scaled = RandomForestClassifier()\n",
    "rf_scaled.fit(X_train_scaled, y_train)\n",
    "rf_pred = rf_scaled.predict(X_test_scaled)\n",
    "print('StandardScaler 스케일링 후 RandomForest 정확도:', accuracy_score(y_test, rf_pred))\n",
    "\n",
    "# LogisticRegression\n",
    "lr_scaled = LogisticRegression()\n",
    "lr_scaled.fit(X_train_scaled, y_train)\n",
    "lr_pred = lr_scaled.predict(X_test_scaled)\n",
    "print('StandardScaler 스케일링 후 LogisticRegression 정확도:', accuracy_score(y_test, lr_pred))"
   ]
  },
  {
   "cell_type": "markdown",
   "metadata": {},
   "source": [
    "## 속성 선택"
   ]
  },
  {
   "cell_type": "code",
   "execution_count": 121,
   "metadata": {},
   "outputs": [
    {
     "name": "stdout",
     "output_type": "stream",
     "text": [
      "속성 선택 후 Decision Tree 정확도: 0.7877094972067039\n",
      "속성 선택 후 Random Forest 정확도: 0.8324022346368715\n",
      "속성 선택 후 Logistic Regression 정확도: 0.8324022346368715\n",
      "********************\n"
     ]
    }
   ],
   "source": [
    "from sklearn.feature_selection import SelectFromModel\n",
    "\n",
    "# 속성 선택 (Random Forest 모델로 특성 중요도 기준 상위 5개 속성 선택)\n",
    "rf_selector = SelectFromModel(rf, threshold=\"mean\", max_features=5)  # 중요도 기준 상위 5개 속성 선택\n",
    "X_train_selected = rf_selector.transform(X_train_scaled)\n",
    "X_test_selected = rf_selector.transform(X_test_scaled)\n",
    "\n",
    "# 속성 선택 후 다시 모델 학습\n",
    "\n",
    "# Decision Tree 모델 (속성 선택 후)\n",
    "dt_selected = DecisionTreeClassifier(random_state=11)\n",
    "dt_selected.fit(X_train_selected, y_train)\n",
    "dt_pred_selected = dt_selected.predict(X_test_selected)\n",
    "dt_selected_accuracy = accuracy_score(y_test, dt_pred_selected)\n",
    "\n",
    "# Random Forest 모델 (속성 선택 후)\n",
    "rf_selected = RandomForestClassifier(random_state=11)\n",
    "rf_selected.fit(X_train_selected, y_train)\n",
    "rf_pred_selected = rf_selected.predict(X_test_selected)\n",
    "rf_selected_accuracy = accuracy_score(y_test, rf_pred_selected)\n",
    "\n",
    "# Logistic Regression 모델 (속성 선택 후)\n",
    "lr_selected = LogisticRegression(solver='liblinear', random_state=11)\n",
    "lr_selected.fit(X_train_selected, y_train)\n",
    "lr_pred_selected = lr_selected.predict(X_test_selected)\n",
    "lr_selected_accuracy = accuracy_score(y_test, lr_pred_selected)\n",
    "\n",
    "# 6. 성능 출력 (속성 선택 후)\n",
    "print(\"속성 선택 후 Decision Tree 정확도:\", dt_selected_accuracy)\n",
    "print(\"속성 선택 후 Random Forest 정확도:\", rf_selected_accuracy)\n",
    "print(\"속성 선택 후 Logistic Regression 정확도:\", lr_selected_accuracy)\n",
    "print('*'*20)"
   ]
  },
  {
   "cell_type": "markdown",
   "metadata": {},
   "source": [
    "## 스케일링 후 파라미터 튜닝 "
   ]
  },
  {
   "cell_type": "code",
   "execution_count": 122,
   "metadata": {},
   "outputs": [
    {
     "name": "stdout",
     "output_type": "stream",
     "text": [
      "StandardScaler + DecisionTreeClassifier 최적 파라미터: {'max_depth': 3, 'min_samples_split': 2}\n",
      "StandardScaler + DecisionTreeClassifier 정확도: 0.8715083798882681\n",
      "StandardScaler + RandomForestClassifier 최적 파라미터: {'max_depth': 3, 'min_samples_split': 2}\n",
      "StandardScaler + RandomForestClassifier 정확도: 0.8659217877094972\n"
     ]
    }
   ],
   "source": [
    "# 데이터 분리\n",
    "X_train, X_test, y_train, y_test = train_test_split(X_titanic_df, y_titanic_df, test_size=0.2, random_state=11)\n",
    "\n",
    "# StandardScaler로 스케일링\n",
    "scaler = StandardScaler()\n",
    "scaler.fit(X_train)\n",
    "X_train_scaled = scaler.transform(X_train)\n",
    "X_test_scaled = scaler.transform(X_test)\n",
    "\n",
    "# 파라미터 설정\n",
    "parameters = {'max_depth': [1, 2, 3], 'min_samples_split': [2, 3]}\n",
    "\n",
    "# DecisionTreeClassifier 하이퍼파라미터 튜닝\n",
    "dt_clf = DecisionTreeClassifier(random_state=11)\n",
    "grid_dt_clf = GridSearchCV(dt_clf, param_grid=parameters, scoring='accuracy', cv=5)\n",
    "grid_dt_clf.fit(X_train_scaled, y_train)\n",
    "\n",
    "# 결과 저장 및 평가\n",
    "dt_score_df = pd.DataFrame(grid_dt_clf.cv_results_)\n",
    "best_dt_clf = grid_dt_clf.best_estimator_\n",
    "best_dt_pred = best_dt_clf.predict(X_test_scaled)\n",
    "dt_accuracy = accuracy_score(y_test, best_dt_pred)\n",
    "\n",
    "print(\"StandardScaler + DecisionTreeClassifier 최적 파라미터:\", grid_dt_clf.best_params_)\n",
    "print(\"StandardScaler + DecisionTreeClassifier 정확도:\", dt_accuracy)\n",
    "\n",
    "# RandomForestClassifier 하이퍼파라미터 튜닝\n",
    "rf_clf = RandomForestClassifier(random_state=11)\n",
    "grid_rf_clf = GridSearchCV(rf_clf, param_grid=parameters, scoring='accuracy', cv=5)\n",
    "grid_rf_clf.fit(X_train_scaled, y_train)\n",
    "\n",
    "# 결과 저장 및 평가\n",
    "rf_score_df = pd.DataFrame(grid_rf_clf.cv_results_)\n",
    "best_rf_clf = grid_rf_clf.best_estimator_\n",
    "best_rf_pred = best_rf_clf.predict(X_test_scaled)\n",
    "rf_accuracy = accuracy_score(y_test, best_rf_pred)\n",
    "\n",
    "print(\"StandardScaler + RandomForestClassifier 최적 파라미터:\", grid_rf_clf.best_params_)\n",
    "print(\"StandardScaler + RandomForestClassifier 정확도:\", rf_accuracy)"
   ]
  },
  {
   "cell_type": "code",
   "execution_count": null,
   "metadata": {},
   "outputs": [],
   "source": []
  }
 ],
 "metadata": {
  "kernelspec": {
   "display_name": "ml_env",
   "language": "python",
   "name": "python3"
  },
  "language_info": {
   "codemirror_mode": {
    "name": "ipython",
    "version": 3
   },
   "file_extension": ".py",
   "mimetype": "text/x-python",
   "name": "python",
   "nbconvert_exporter": "python",
   "pygments_lexer": "ipython3",
   "version": "3.9.21"
  }
 },
 "nbformat": 4,
 "nbformat_minor": 2
}
