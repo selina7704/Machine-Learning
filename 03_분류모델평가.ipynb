{
 "cells": [
  {
   "cell_type": "code",
   "execution_count": 1,
   "metadata": {},
   "outputs": [],
   "source": [
    "from sklearn.base import BaseEstimator\n",
    "import numpy as np\n",
    "\n",
    "class MyDummyClassifier(BaseEstimator):\n",
    "    def fit(self, X,y=None):\n",
    "        pass\n",
    "\n",
    "    def predict(self, X):\n",
    "        pred = np.zeros((X.shape[0],1))\n",
    "        for i in range(X.shape[0]): # sex ==1, survived=0으로 예측, 아니면 1로 예측측\n",
    "            if X['Sex'].iloc[i] == 1:\n",
    "                pred[i]=0\n",
    "            else:\n",
    "                pred[i]=1\n",
    "        return pred\n"
   ]
  },
  {
   "cell_type": "code",
   "execution_count": 7,
   "metadata": {},
   "outputs": [],
   "source": [
    "from sklearn.preprocessing import LabelEncoder\n",
    "\n",
    "# Null 처리 함수\n",
    "def fillna(df):\n",
    "    df['Age'].fillna(df['Age'].mean(), inplace=True)\n",
    "    df['Cabin'].fillna('N', inplace=True)\n",
    "    df['Embarked'].fillna('N', inplace=True)\n",
    "    df['Fare'].fillna(0, inplace=True)\n",
    "    return df\n",
    "\n",
    "# 머신러닝 알고리즘에 불필요한 피처 제거\n",
    "def drop_features(df):\n",
    "    df.drop(['PassengerId', 'Name', 'Ticket'], axis=1, inplace=True)\n",
    "    return df\n",
    "\n",
    "# 레이블 인코딩 수행.\n",
    "def format_features(df):\n",
    "    df['Cabin'] = df['Cabin'].str[:1]\n",
    "    features = ['Cabin', 'Sex', 'Embarked']\n",
    "    for feature in features:\n",
    "        le = LabelEncoder()\n",
    "        le = le.fit(df[feature])\n",
    "        df[feature] = le.transform(df[feature])\n",
    "    return df\n",
    "\n",
    "# 앞에서 설정한 데이터 전처리 함수 호출\n",
    "def transform_features(df):\n",
    "    df = fillna(df)\n",
    "    df = drop_features(df)\n",
    "    df = format_features(df)\n",
    "    return df"
   ]
  },
  {
   "cell_type": "code",
   "execution_count": 9,
   "metadata": {},
   "outputs": [
    {
     "name": "stderr",
     "output_type": "stream",
     "text": [
      "C:\\Users\\selina\\AppData\\Local\\Temp\\ipykernel_27596\\340051843.py:5: FutureWarning: A value is trying to be set on a copy of a DataFrame or Series through chained assignment using an inplace method.\n",
      "The behavior will change in pandas 3.0. This inplace method will never work because the intermediate object on which we are setting values always behaves as a copy.\n",
      "\n",
      "For example, when doing 'df[col].method(value, inplace=True)', try using 'df.method({col: value}, inplace=True)' or df[col] = df[col].method(value) instead, to perform the operation inplace on the original object.\n",
      "\n",
      "\n",
      "  df['Age'].fillna(df['Age'].mean(), inplace=True)\n",
      "C:\\Users\\selina\\AppData\\Local\\Temp\\ipykernel_27596\\340051843.py:6: FutureWarning: A value is trying to be set on a copy of a DataFrame or Series through chained assignment using an inplace method.\n",
      "The behavior will change in pandas 3.0. This inplace method will never work because the intermediate object on which we are setting values always behaves as a copy.\n",
      "\n",
      "For example, when doing 'df[col].method(value, inplace=True)', try using 'df.method({col: value}, inplace=True)' or df[col] = df[col].method(value) instead, to perform the operation inplace on the original object.\n",
      "\n",
      "\n",
      "  df['Cabin'].fillna('N', inplace=True)\n",
      "C:\\Users\\selina\\AppData\\Local\\Temp\\ipykernel_27596\\340051843.py:7: FutureWarning: A value is trying to be set on a copy of a DataFrame or Series through chained assignment using an inplace method.\n",
      "The behavior will change in pandas 3.0. This inplace method will never work because the intermediate object on which we are setting values always behaves as a copy.\n",
      "\n",
      "For example, when doing 'df[col].method(value, inplace=True)', try using 'df.method({col: value}, inplace=True)' or df[col] = df[col].method(value) instead, to perform the operation inplace on the original object.\n",
      "\n",
      "\n",
      "  df['Embarked'].fillna('N', inplace=True)\n",
      "C:\\Users\\selina\\AppData\\Local\\Temp\\ipykernel_27596\\340051843.py:8: FutureWarning: A value is trying to be set on a copy of a DataFrame or Series through chained assignment using an inplace method.\n",
      "The behavior will change in pandas 3.0. This inplace method will never work because the intermediate object on which we are setting values always behaves as a copy.\n",
      "\n",
      "For example, when doing 'df[col].method(value, inplace=True)', try using 'df.method({col: value}, inplace=True)' or df[col] = df[col].method(value) instead, to perform the operation inplace on the original object.\n",
      "\n",
      "\n",
      "  df['Fare'].fillna(0, inplace=True)\n"
     ]
    }
   ],
   "source": [
    "import pandas as pd\n",
    "from sklearn.model_selection import train_test_split\n",
    "from sklearn.metrics import accuracy_score\n",
    "\n",
    "titanic_df = pd.read_csv('./titanic_train.csv')\n",
    "y_titanic_df = titanic_df['Survived']\n",
    "X_titanic_df = titanic_df.drop('Survived', axis=1)\n",
    "\n",
    "# 전처리리\n",
    "X_titanic_df = transform_features(X_titanic_df)\n",
    "\n",
    "# 데이터 분할할\n",
    "X_train, X_test, y_train, y_test = train_test_split(X_titanic_df, y_titanic_df, test_size=0.2, random_state=0)"
   ]
  },
  {
   "cell_type": "code",
   "execution_count": null,
   "metadata": {},
   "outputs": [
    {
     "data": {
      "text/plain": [
       "0.7877094972067039"
      ]
     },
     "execution_count": 11,
     "metadata": {},
     "output_type": "execute_result"
    }
   ],
   "source": [
    "# 모델 생성 & 학습습\n",
    "myclf = MyDummyClassifier()\n",
    "myclf.fit(X_train, y_train)\n",
    "\n",
    "# 모델 예측\n",
    "my_pred = myclf.predict(X_test)\n",
    "accuracy_score(y_test, my_pred) #정확도도"
   ]
  },
  {
   "cell_type": "code",
   "execution_count": 15,
   "metadata": {},
   "outputs": [
    {
     "data": {
      "text/plain": [
       "array([[92, 18],\n",
       "       [20, 49]])"
      ]
     },
     "execution_count": 15,
     "metadata": {},
     "output_type": "execute_result"
    }
   ],
   "source": [
    "from sklearn.metrics import confusion_matrix\n",
    "\n",
    "confusion_matrix(y_test, my_pred) #row: 실제값, col: 예측측"
   ]
  },
  {
   "cell_type": "code",
   "execution_count": 18,
   "metadata": {},
   "outputs": [
    {
     "data": {
      "text/plain": [
       "(0.7313432835820896, 0.7101449275362319)"
      ]
     },
     "execution_count": 18,
     "metadata": {},
     "output_type": "execute_result"
    }
   ],
   "source": [
    "from sklearn.metrics import precision_score, recall_score\n",
    "\n",
    "# 정밀도/재현율율\n",
    "precision_score(y_test, my_pred), recall_score(y_test, my_pred)\n"
   ]
  },
  {
   "cell_type": "markdown",
   "metadata": {},
   "source": [
    "# MNIST dataset"
   ]
  },
  {
   "cell_type": "code",
   "execution_count": 14,
   "metadata": {},
   "outputs": [
    {
     "data": {
      "text/plain": [
       "(1797, 64)"
      ]
     },
     "execution_count": 14,
     "metadata": {},
     "output_type": "execute_result"
    }
   ],
   "source": [
    "from sklearn.datasets import load_digits\n",
    "\n",
    "digits = load_digits()\n",
    "digits.data.shape\n"
   ]
  },
  {
   "cell_type": "markdown",
   "metadata": {},
   "source": [
    "# p.149 MyFakeClassifier 를 이용한 정확도 측정"
   ]
  },
  {
   "cell_type": "markdown",
   "metadata": {},
   "source": [
    "# 오차행렬"
   ]
  },
  {
   "cell_type": "code",
   "execution_count": 20,
   "metadata": {},
   "outputs": [
    {
     "data": {
      "text/plain": [
       "(   Pclass  Sex   Age  SibSp  Parch     Fare  Cabin  Embarked\n",
       " 0       3    1  22.0      1      0   7.2500      7         3\n",
       " 1       1    0  38.0      1      0  71.2833      2         0\n",
       " 2       3    0  26.0      0      0   7.9250      7         3\n",
       " 3       1    0  35.0      1      0  53.1000      2         3\n",
       " 4       3    1  35.0      0      0   8.0500      7         3,\n",
       " 0    0\n",
       " 1    1\n",
       " 2    1\n",
       " 3    1\n",
       " 4    0\n",
       " Name: Survived, dtype: int64)"
      ]
     },
     "execution_count": 20,
     "metadata": {},
     "output_type": "execute_result"
    }
   ],
   "source": [
    "#titanic_df\n",
    "X_titanic_df.head(), y_titanic_df.head()"
   ]
  },
  {
   "cell_type": "code",
   "execution_count": 28,
   "metadata": {},
   "outputs": [],
   "source": [
    "# 전처리리\n",
    "#X_titanic_df = transform_features(X_titanic_df)\n",
    "X_train, X_test, y_train, y_test = train_test_split(X_titanic_df, y_titanic_df, test_size=0.2, random_state=11)\n"
   ]
  },
  {
   "cell_type": "code",
   "execution_count": 33,
   "metadata": {},
   "outputs": [],
   "source": [
    "# p.156\n",
    "\n",
    "def get_clf_eval(y_test, pred):\n",
    "    confusion = confusion_matrix(y_test, pred)\n",
    "    accuracy = accuracy_score(y_test, pred)\n",
    "    precision = precision_score(y_test, pred) \n",
    "    recall = recall_score(y_test, pred)\n",
    "\n",
    "    print(confusion)\n",
    "    print('*'*20)\n",
    "    print(accuracy, precision, recall)   "
   ]
  },
  {
   "cell_type": "code",
   "execution_count": 34,
   "metadata": {},
   "outputs": [
    {
     "name": "stdout",
     "output_type": "stream",
     "text": [
      "[[104  14]\n",
      " [ 13  48]]\n",
      "********************\n",
      "0.8491620111731844 0.7741935483870968 0.7868852459016393\n"
     ]
    },
    {
     "name": "stderr",
     "output_type": "stream",
     "text": [
      "c:\\Users\\selina\\.conda\\envs\\ml_env\\lib\\site-packages\\sklearn\\linear_model\\_logistic.py:465: ConvergenceWarning: lbfgs failed to converge (status=1):\n",
      "STOP: TOTAL NO. of ITERATIONS REACHED LIMIT.\n",
      "\n",
      "Increase the number of iterations (max_iter) or scale the data as shown in:\n",
      "    https://scikit-learn.org/stable/modules/preprocessing.html\n",
      "Please also refer to the documentation for alternative solver options:\n",
      "    https://scikit-learn.org/stable/modules/linear_model.html#logistic-regression\n",
      "  n_iter_i = _check_optimize_result(\n"
     ]
    }
   ],
   "source": [
    "# 로지스틱회귀 분류모델 생성\n",
    "from sklearn.linear_model import LogisticRegression\n",
    "\n",
    "lr_clf = LogisticRegression()\n",
    "lr_clf.fit(X_train, y_train)\n",
    "lr_clf.predict(X_test)\n",
    "pred = lr_clf.predict(X_test)\n",
    "\n",
    "# 정확도, 정밀도, 재현율\n",
    "get_clf_eval(y_test, pred)"
   ]
  },
  {
   "cell_type": "code",
   "execution_count": 37,
   "metadata": {},
   "outputs": [],
   "source": [
    "pred_proba = lr_clf.predict_proba(X_test)"
   ]
  },
  {
   "cell_type": "code",
   "execution_count": 38,
   "metadata": {},
   "outputs": [
    {
     "data": {
      "text/plain": [
       "array([[0.46235897, 0.53764103, 1.        ],\n",
       "       [0.87877764, 0.12122236, 0.        ],\n",
       "       [0.87720996, 0.12279004, 0.        ],\n",
       "       [0.88243424, 0.11756576, 0.        ],\n",
       "       [0.85531356, 0.14468644, 0.        ],\n",
       "       [0.8821124 , 0.1178876 , 0.        ],\n",
       "       [0.88850554, 0.11149446, 0.        ],\n",
       "       [0.20887546, 0.79112454, 1.        ],\n",
       "       [0.7828625 , 0.2171375 , 0.        ],\n",
       "       [0.36900515, 0.63099485, 1.        ],\n",
       "       [0.8996726 , 0.1003274 , 0.        ],\n",
       "       [0.87516493, 0.12483507, 0.        ],\n",
       "       [0.87720405, 0.12279595, 0.        ],\n",
       "       [0.88846023, 0.11153977, 0.        ],\n",
       "       [0.43679356, 0.56320644, 1.        ],\n",
       "       [0.85911091, 0.14088909, 0.        ],\n",
       "       [0.90378902, 0.09621098, 0.        ],\n",
       "       [0.73334014, 0.26665986, 0.        ],\n",
       "       [0.72465745, 0.27534255, 0.        ],\n",
       "       [0.17155259, 0.82844741, 1.        ],\n",
       "       [0.75350245, 0.24649755, 0.        ],\n",
       "       [0.61874254, 0.38125746, 0.        ],\n",
       "       [0.85475655, 0.14524345, 0.        ],\n",
       "       [0.81469453, 0.18530547, 0.        ],\n",
       "       [0.88809435, 0.11190565, 0.        ],\n",
       "       [0.76539046, 0.23460954, 0.        ],\n",
       "       [0.85952951, 0.14047049, 0.        ],\n",
       "       [0.92578728, 0.07421272, 0.        ],\n",
       "       [0.71952205, 0.28047795, 0.        ],\n",
       "       [0.69541965, 0.30458035, 0.        ],\n",
       "       [0.05283233, 0.94716767, 1.        ],\n",
       "       [0.18289504, 0.81710496, 1.        ],\n",
       "       [0.87311192, 0.12688808, 0.        ],\n",
       "       [0.17384623, 0.82615377, 1.        ],\n",
       "       [0.60038577, 0.39961423, 0.        ],\n",
       "       [0.76539046, 0.23460954, 0.        ],\n",
       "       [0.92761165, 0.07238835, 0.        ],\n",
       "       [0.38942094, 0.61057906, 1.        ],\n",
       "       [0.94712439, 0.05287561, 0.        ],\n",
       "       [0.89615617, 0.10384383, 0.        ],\n",
       "       [0.64882189, 0.35117811, 0.        ],\n",
       "       [0.9165774 , 0.0834226 , 0.        ],\n",
       "       [0.17839976, 0.82160024, 1.        ],\n",
       "       [0.29220824, 0.70779176, 1.        ],\n",
       "       [0.36975957, 0.63024043, 1.        ],\n",
       "       [0.36974348, 0.63025652, 1.        ],\n",
       "       [0.08115048, 0.91884952, 1.        ],\n",
       "       [0.64037739, 0.35962261, 0.        ],\n",
       "       [0.05114997, 0.94885003, 1.        ],\n",
       "       [0.88806026, 0.11193974, 0.        ],\n",
       "       [0.40762082, 0.59237918, 1.        ],\n",
       "       [0.88846023, 0.11153977, 0.        ],\n",
       "       [0.86732504, 0.13267496, 0.        ],\n",
       "       [0.27473422, 0.72526578, 1.        ],\n",
       "       [0.69061685, 0.30938315, 0.        ],\n",
       "       [0.8027326 , 0.1972674 , 0.        ],\n",
       "       [0.77343604, 0.22656396, 0.        ],\n",
       "       [0.87720893, 0.12279107, 0.        ],\n",
       "       [0.84594817, 0.15405183, 0.        ],\n",
       "       [0.56719059, 0.43280941, 0.        ],\n",
       "       [0.71981035, 0.28018965, 0.        ],\n",
       "       [0.8993561 , 0.1006439 , 0.        ],\n",
       "       [0.4546948 , 0.5453052 , 1.        ],\n",
       "       [0.48515761, 0.51484239, 1.        ],\n",
       "       [0.55554327, 0.44445673, 0.        ],\n",
       "       [0.90546086, 0.09453914, 0.        ],\n",
       "       [0.3335828 , 0.6664172 , 1.        ],\n",
       "       [0.40622397, 0.59377603, 1.        ],\n",
       "       [0.04818894, 0.95181106, 1.        ],\n",
       "       [0.85176603, 0.14823397, 0.        ],\n",
       "       [0.87128045, 0.12871955, 0.        ],\n",
       "       [0.83172979, 0.16827021, 0.        ],\n",
       "       [0.89615395, 0.10384605, 0.        ],\n",
       "       [0.05205613, 0.94794387, 1.        ],\n",
       "       [0.80125009, 0.19874991, 0.        ],\n",
       "       [0.88846023, 0.11153977, 0.        ],\n",
       "       [0.6521454 , 0.3478546 , 0.        ],\n",
       "       [0.81622988, 0.18377012, 0.        ],\n",
       "       [0.16443388, 0.83556612, 1.        ],\n",
       "       [0.87720893, 0.12279107, 0.        ],\n",
       "       [0.2053203 , 0.7946797 , 1.        ],\n",
       "       [0.35416781, 0.64583219, 1.        ],\n",
       "       [0.06883007, 0.93116993, 1.        ],\n",
       "       [0.86680223, 0.13319777, 0.        ],\n",
       "       [0.05112474, 0.94887526, 1.        ],\n",
       "       [0.0497509 , 0.9502491 , 1.        ],\n",
       "       [0.84642395, 0.15357605, 0.        ],\n",
       "       [0.87456636, 0.12543364, 0.        ],\n",
       "       [0.1254033 , 0.8745967 , 1.        ],\n",
       "       [0.88846023, 0.11153977, 0.        ],\n",
       "       [0.88846023, 0.11153977, 0.        ],\n",
       "       [0.76539046, 0.23460954, 0.        ],\n",
       "       [0.76747528, 0.23252472, 0.        ],\n",
       "       [0.88846023, 0.11153977, 0.        ],\n",
       "       [0.36974348, 0.63025652, 1.        ],\n",
       "       [0.92431569, 0.07568431, 0.        ],\n",
       "       [0.07118014, 0.92881986, 1.        ],\n",
       "       [0.89935186, 0.10064814, 0.        ],\n",
       "       [0.49483086, 0.50516914, 1.        ],\n",
       "       [0.03493848, 0.96506152, 1.        ],\n",
       "       [0.49840577, 0.50159423, 1.        ],\n",
       "       [0.90564477, 0.09435523, 0.        ],\n",
       "       [0.05220917, 0.94779083, 1.        ],\n",
       "       [0.90252027, 0.09747973, 0.        ],\n",
       "       [0.47019326, 0.52980674, 1.        ],\n",
       "       [0.87172675, 0.12827325, 0.        ],\n",
       "       [0.85906449, 0.14093551, 0.        ],\n",
       "       [0.85176633, 0.14823367, 0.        ],\n",
       "       [0.5508535 , 0.4491465 , 0.        ],\n",
       "       [0.89203997, 0.10796003, 0.        ],\n",
       "       [0.88282383, 0.11717617, 0.        ],\n",
       "       [0.89119024, 0.10880976, 0.        ],\n",
       "       [0.59687576, 0.40312424, 0.        ],\n",
       "       [0.34589867, 0.65410133, 1.        ],\n",
       "       [0.88809435, 0.11190565, 0.        ],\n",
       "       [0.92907337, 0.07092663, 0.        ],\n",
       "       [0.87549843, 0.12450157, 0.        ],\n",
       "       [0.80147756, 0.19852244, 0.        ],\n",
       "       [0.07397976, 0.92602024, 1.        ],\n",
       "       [0.93135952, 0.06864048, 0.        ],\n",
       "       [0.88846897, 0.11153103, 0.        ],\n",
       "       [0.8692094 , 0.1307906 , 0.        ],\n",
       "       [0.93630431, 0.06369569, 0.        ],\n",
       "       [0.67783316, 0.32216684, 0.        ],\n",
       "       [0.98839801, 0.01160199, 0.        ],\n",
       "       [0.88846897, 0.11153103, 0.        ],\n",
       "       [0.88382579, 0.11617421, 0.        ],\n",
       "       [0.68332408, 0.31667592, 0.        ],\n",
       "       [0.32247482, 0.67752518, 1.        ],\n",
       "       [0.67812202, 0.32187798, 0.        ],\n",
       "       [0.03493848, 0.96506152, 1.        ],\n",
       "       [0.54607166, 0.45392834, 0.        ],\n",
       "       [0.26482926, 0.73517074, 1.        ],\n",
       "       [0.55621798, 0.44378202, 0.        ],\n",
       "       [0.43058259, 0.56941741, 1.        ],\n",
       "       [0.6483601 , 0.3516399 , 0.        ],\n",
       "       [0.25140715, 0.74859285, 1.        ],\n",
       "       [0.81372189, 0.18627811, 0.        ],\n",
       "       [0.89612913, 0.10387087, 0.        ],\n",
       "       [0.1964315 , 0.8035685 , 1.        ],\n",
       "       [0.09100419, 0.90899581, 1.        ],\n",
       "       [0.85176633, 0.14823367, 0.        ],\n",
       "       [0.8819987 , 0.1180013 , 0.        ],\n",
       "       [0.89880375, 0.10119625, 0.        ],\n",
       "       [0.90842206, 0.09157794, 0.        ],\n",
       "       [0.33163798, 0.66836202, 1.        ],\n",
       "       [0.92436016, 0.07563984, 0.        ],\n",
       "       [0.76576859, 0.23423141, 0.        ],\n",
       "       [0.08200847, 0.91799153, 1.        ],\n",
       "       [0.83177097, 0.16822903, 0.        ],\n",
       "       [0.57082474, 0.42917526, 0.        ],\n",
       "       [0.36858274, 0.63141726, 1.        ],\n",
       "       [0.3638666 , 0.6361334 , 1.        ],\n",
       "       [0.87726382, 0.12273618, 0.        ],\n",
       "       [0.22236729, 0.77763271, 1.        ],\n",
       "       [0.1193585 , 0.8806415 , 1.        ],\n",
       "       [0.51288657, 0.48711343, 0.        ],\n",
       "       [0.86716381, 0.13283619, 0.        ],\n",
       "       [0.24832333, 0.75167667, 1.        ],\n",
       "       [0.30980527, 0.69019473, 1.        ],\n",
       "       [0.85036956, 0.14963044, 0.        ],\n",
       "       [0.20678898, 0.79321102, 1.        ],\n",
       "       [0.90877789, 0.09122211, 0.        ],\n",
       "       [0.33364951, 0.66635049, 1.        ],\n",
       "       [0.62006642, 0.37993358, 0.        ],\n",
       "       [0.34907773, 0.65092227, 1.        ],\n",
       "       [0.11564485, 0.88435515, 1.        ],\n",
       "       [0.69041931, 0.30958069, 0.        ],\n",
       "       [0.90840304, 0.09159696, 0.        ],\n",
       "       [0.10703268, 0.89296732, 1.        ],\n",
       "       [0.88850554, 0.11149446, 0.        ],\n",
       "       [0.14594324, 0.85405676, 1.        ],\n",
       "       [0.74903497, 0.25096503, 0.        ],\n",
       "       [0.75980803, 0.24019197, 0.        ],\n",
       "       [0.59829167, 0.40170833, 0.        ],\n",
       "       [0.93770626, 0.06229374, 0.        ],\n",
       "       [0.85905757, 0.14094243, 0.        ],\n",
       "       [0.45525469, 0.54474531, 1.        ],\n",
       "       [0.37320762, 0.62679238, 1.        ]])"
      ]
     },
     "execution_count": 38,
     "metadata": {},
     "output_type": "execute_result"
    }
   ],
   "source": [
    "pred_proba_result = np.concatenate([pred_proba, pred.reshape(-1,1)],axis=1)\n",
    "pred_proba_result"
   ]
  },
  {
   "cell_type": "markdown",
   "metadata": {},
   "source": [
    "## 이진화 Binarizer"
   ]
  },
  {
   "cell_type": "code",
   "execution_count": null,
   "metadata": {},
   "outputs": [
    {
     "name": "stdout",
     "output_type": "stream",
     "text": [
      "[[98 20]\n",
      " [10 51]]\n",
      "********************\n",
      "0.8324022346368715 0.7183098591549296 0.8360655737704918\n"
     ]
    }
   ],
   "source": [
    "custom_threshold = 0.4 # 이 기준보다 큰 수치를 생존 아니면 사망\n",
    "pred_proba_1 = pred_proba[:,1].reshape(-1,1) # 새로운 예측값값 #0.53764103, 0.12122236...\n",
    "\n",
    "from sklearn.preprocessing import Binarizer\n",
    "binarizer = Binarizer(threshold = custom_threshold).fit(pred_proba_1) #새로운 예측값으로 이진화한 예측값값\n",
    "custom_predict = binarizer.transform(pred_proba_1)\n",
    "get_clf_eval(y_test, custom_predict)"
   ]
  },
  {
   "cell_type": "code",
   "execution_count": null,
   "metadata": {},
   "outputs": [],
   "source": [
    "# get_clf_eval(y_test, pred)\n",
    "[[104  14]\n",
    " [ 13  48]]\n",
    "********************\n",
    "0.8491620111731844 0.7741935483870968 0.7868852459016393"
   ]
  },
  {
   "cell_type": "code",
   "execution_count": null,
   "metadata": {},
   "outputs": [],
   "source": []
  }
 ],
 "metadata": {
  "kernelspec": {
   "display_name": "ml_env",
   "language": "python",
   "name": "python3"
  },
  "language_info": {
   "codemirror_mode": {
    "name": "ipython",
    "version": 3
   },
   "file_extension": ".py",
   "mimetype": "text/x-python",
   "name": "python",
   "nbconvert_exporter": "python",
   "pygments_lexer": "ipython3",
   "version": "3.9.21"
  }
 },
 "nbformat": 4,
 "nbformat_minor": 2
}
