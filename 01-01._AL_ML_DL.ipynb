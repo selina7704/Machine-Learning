{
 "cells": [
  {
   "cell_type": "code",
   "execution_count": null,
   "metadata": {},
   "outputs": [],
   "source": [
    "# 인공지능 - 사람을 대신해서 계산 해줌\n",
    "def my_function(x):\n",
    "  return 5 * x + 7\n",
    "\n",
    "val = int(input('숫자를 입력하세요 : '))\n",
    "ret = my_function(val)\n",
    "print(f\"결과: {ret}\")"
   ]
  },
  {
   "cell_type": "code",
   "execution_count": null,
   "metadata": {},
   "outputs": [
    {
     "name": "stdout",
     "output_type": "stream",
     "text": [
      "[52.]\n"
     ]
    }
   ],
   "source": [
    "# 머신러닝\n",
    "import numpy\n",
    "from sklearn import linear_model\n",
    "\n",
    "#1. 데이터, 입력 값과 결과 값\n",
    "#입력 값 - 2차원임\n",
    "X_train = numpy.array([1, 2, 3, 4, 5, 6, 7]).reshape(-1,1)\n",
    "\n",
    "#결과 값 - 정답 1차원임, 입력을 넣었을 나올 정답 (5 * x + 7임을 알아차릴까?)\n",
    "y_train = numpy.array([12, 17, 22, 27, 32, 37, 42])\n",
    "\n",
    "#2. 기계학습의 가장 큰 특징 - 어떤 모델을 사용할 것인가 알려줘야 함\n",
    "model = linear_model.LinearRegression()\n",
    "\n",
    "#3. 학습\n",
    "model.fit(X_train, y_train)\n",
    "\n",
    "#4. 예측\n",
    "predict = model.predict([[9]])\n",
    "\n",
    "#예측한 결과 값\n",
    "print(predict)"
   ]
  },
  {
   "cell_type": "code",
   "execution_count": null,
   "metadata": {},
   "outputs": [
    {
     "name": "stdout",
     "output_type": "stream",
     "text": [
      "\u001b[1m1/1\u001b[0m \u001b[32m━━━━━━━━━━━━━━━━━━━━\u001b[0m\u001b[37m\u001b[0m \u001b[1m0s\u001b[0m 96ms/step\n"
     ]
    },
    {
     "data": {
      "text/plain": [
       "array([[52.103584]], dtype=float32)"
      ]
     },
     "execution_count": 7,
     "metadata": {},
     "output_type": "execute_result"
    }
   ],
   "source": [
    "import tensorflow as tf\n",
    "\n",
    "#1. 데이터 지정\n",
    "X_train = numpy.array([1, 2, 3, 4, 5, 6, 7]).reshape(-1,1)\n",
    "y_train = numpy.array([12, 17, 22, 27, 32, 37, 42])\n",
    "\n",
    "#2. 모델 형태 지정\n",
    "inputs = tf.keras.layers.Input(shape=(1,))  #입력층 입력되는 값이 한 개임(1 dimension)\n",
    "outputs = tf.keras.layers.Dense(units=1)(inputs)  #출력층\n",
    "\n",
    "#모델 객체를 생성(특정 모델이 없음)\n",
    "model = tf.keras.models.Model(inputs, outputs)\n",
    "\n",
    "#loss 손실함수 -> MeanSquaredError, 최적화 함수(성능이 좋아짐) -> SGD\n",
    "model.compile(\n",
    "    loss = tf.keras.losses.MeanSquaredError(),\n",
    "    optimizer = tf.keras.optimizers.SGD()\n",
    ")\n",
    "\n",
    "#3. 모델 학습하기\n",
    "model.fit(X_train, y_train, epochs=1000, verbose=0)\n",
    "\n",
    "#4. 예측 epochs = 100 : '55.xx', 1000:52.xx\n",
    "predict = model.predict(numpy.array([[9]])) #예측값을 numpy 배열 2차원으로 변환\n",
    "\n",
    "#예측한 결과 값\n",
    "predict"
   ]
  }
 ],
 "metadata": {
  "kernelspec": {
   "display_name": "ml_env",
   "language": "python",
   "name": "python3"
  },
  "language_info": {
   "codemirror_mode": {
    "name": "ipython",
    "version": 3
   },
   "file_extension": ".py",
   "mimetype": "text/x-python",
   "name": "python",
   "nbconvert_exporter": "python",
   "pygments_lexer": "ipython3",
   "version": "3.9.21"
  }
 },
 "nbformat": 4,
 "nbformat_minor": 2
}
